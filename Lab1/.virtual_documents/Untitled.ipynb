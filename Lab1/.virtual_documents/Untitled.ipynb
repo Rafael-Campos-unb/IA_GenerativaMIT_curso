# 1 Importar as bibs necessárias e setar o device
from abc import ABC, abstractmethod
from typing import Optional
import math
import numpy as np
from matplotlib import pyplot as plt
from matplotlib.axes._axes import Axes
import torch
import torch.distributions as D
from torch.func import tqdm
import seaborn as sns

device = torch.device('cuda' if torch.cuda_is_available() else 'cpu')



